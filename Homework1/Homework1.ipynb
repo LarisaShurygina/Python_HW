{
 "cells": [
  {
   "cell_type": "markdown",
   "metadata": {},
   "source": [
    "## Задача 1\n",
    "### На складе лежат разные фрукты в разном количестве. Нужно написать функцию, которая на вход принимает любое количество названий фруктов и их количество, а возвращает общее количество фруктов на складе"
   ]
  },
  {
   "cell_type": "code",
   "execution_count": 43,
   "metadata": {},
   "outputs": [
    {
     "name": "stdout",
     "output_type": "stream",
     "text": [
      "25\n"
     ]
    }
   ],
   "source": [
    "def store_fruits(**fruits):\n",
    "    store = 0\n",
    "    for count in fruits.values():\n",
    "        store += count\n",
    "    return store\n",
    "    \n",
    "store_count = store_fruits(apples = 10, oranges = 10, melon = 5)\n",
    "print(store_count)\n",
    "\n"
   ]
  },
  {
   "cell_type": "markdown",
   "metadata": {},
   "source": [
    "## Задача 2\n",
    "### Дан список с затратами на рекламу. Но в данных есть ошибки, некоторые затраты имеют отрицательную величину. Удалите такие значения из списка и посчитайте суммарные затраты. Используйте list comprehensions\n",
    "#### [100, 125, -90, 345, 655, -1, 0, 200]\n"
   ]
  },
  {
   "cell_type": "code",
   "execution_count": 41,
   "metadata": {},
   "outputs": [
    {
     "name": "stdout",
     "output_type": "stream",
     "text": [
      "1425\n"
     ]
    }
   ],
   "source": [
    "numbers = [100, 125, -90, 345, 655, -1, 0, 200]\n",
    "only_positive = [numbers for numbers in numbers if numbers > 0]\n",
    "print(sum(only_positive))\n",
    "\n",
    "\n",
    "\n",
    "\n",
    "# list = [100, 125, -90, 345, 655, -1, 0, 200]\n",
    "# del list[2:5]\n",
    "# print(list)\n",
    "# sum(list)\n",
    "# print(sum(list))"
   ]
  }
 ],
 "metadata": {
  "kernelspec": {
   "display_name": "Python 3",
   "language": "python",
   "name": "python3"
  },
  "language_info": {
   "codemirror_mode": {
    "name": "ipython",
    "version": 3
   },
   "file_extension": ".py",
   "mimetype": "text/x-python",
   "name": "python",
   "nbconvert_exporter": "python",
   "pygments_lexer": "ipython3",
   "version": "3.11.4"
  },
  "orig_nbformat": 4
 },
 "nbformat": 4,
 "nbformat_minor": 2
}
